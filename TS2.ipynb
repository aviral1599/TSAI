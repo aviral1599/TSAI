{
 "cells": [
  {
   "cell_type": "code",
   "execution_count": 14,
   "metadata": {},
   "outputs": [],
   "source": [
    "import warnings\n",
    "\n",
    "import numpy as np\n",
    "import pandas as pd\n",
    "import seaborn as sns\n",
    "import matplotlib.pyplot as plt\n",
    "\n",
    "# import sktime\n",
    "from sklearn.preprocessing import MinMaxScaler\n",
    "from sklearn.model_selection import train_test_split\n",
    "from sklearn.metrics import mean_absolute_error, mean_squared_error, r2_score, make_scorer\n",
    "\n",
    "from tsai.basics import timer\n",
    "# from tsai.data.core import TSDatasets\n",
    "# from fastai.data.transforms import Categorize\n",
    "# from tsai.data.validation import combine_split_data\n",
    "from tsai.data.external import get_UCR_data, get_Monash_regression_data, check_data\n",
    "from tsai.models.MINIROCKET import *"
   ]
  },
  {
   "cell_type": "code",
   "execution_count": 2,
   "metadata": {},
   "outputs": [
    {
     "name": "stdout",
     "output_type": "stream",
     "text": [
      "<class 'pandas.core.frame.DataFrame'>\n",
      "RangeIndex: 1009 entries, 0 to 1008\n",
      "Data columns (total 15 columns):\n",
      " #   Column   Non-Null Count  Dtype  \n",
      "---  ------   --------------  -----  \n",
      " 0   Section  101 non-null    object \n",
      " 1   year     1009 non-null   int64  \n",
      " 2   Para-1   1009 non-null   float64\n",
      " 3   Para-2   1009 non-null   float64\n",
      " 4   Para-3   1009 non-null   float64\n",
      " 5   Para-4   1009 non-null   float64\n",
      " 6   Para-5   1009 non-null   int64  \n",
      " 7   Para-6   1009 non-null   int64  \n",
      " 8   Para-7   1009 non-null   int64  \n",
      " 9   Para-8   1009 non-null   int64  \n",
      " 10  Para-9   1009 non-null   float64\n",
      " 11  Para-10  1009 non-null   float64\n",
      " 12  Para-11  1009 non-null   float64\n",
      " 13  Para-12  1009 non-null   int64  \n",
      " 14  Para-13  1007 non-null   float64\n",
      "dtypes: float64(8), int64(6), object(1)\n",
      "memory usage: 118.4+ KB\n",
      "None\n"
     ]
    }
   ],
   "source": [
    "warnings.filterwarnings(action='ignore', category=UserWarning)\n",
    "\n",
    "df = pd.read_excel('./DATASET.xlsx')\n",
    "df.rename(columns={'Unnamed: 0':'Section'}, inplace=True)\n",
    "\n",
    "print(df.info())"
   ]
  },
  {
   "cell_type": "code",
   "execution_count": 3,
   "metadata": {},
   "outputs": [],
   "source": [
    "def check_null(df):\n",
    "    null_entries = df.loc[:,'year':].isnull().any()\n",
    "    return df.loc[:,'year':].columns[null_entries].tolist()"
   ]
  },
  {
   "cell_type": "code",
   "execution_count": 4,
   "metadata": {},
   "outputs": [],
   "source": [
    "def get_selected_parameters(x, y, parameters=[8, 9, 10, 11, 12]):\n",
    "    new_x, new_y = [], []\n",
    "    for x_vals in x:\n",
    "        new_x.append(x_vals[parameters])\n",
    "    for y_vals in y:\n",
    "        new_y.append(y_vals[parameters])\n",
    "    new_x = np.array(new_x)\n",
    "    new_y = np.array(new_y)\n",
    "    if new_y.dtype == 'object':\n",
    "        new_y = new_y.astype('float64')\n",
    "    return new_x, new_y \n",
    "    "
   ]
  },
  {
   "cell_type": "code",
   "execution_count": 5,
   "metadata": {},
   "outputs": [
    {
     "name": "stdout",
     "output_type": "stream",
     "text": [
      "Null Columns: ['Para-13']\n",
      "Filling Null Values\n"
     ]
    }
   ],
   "source": [
    "null_colmns = check_null(df)\n",
    "print(f'Null Columns: {null_colmns}')\n",
    "if len(null_colmns)>0:\n",
    "    print('Filling Null Values')\n",
    "    [df[col].fillna(method='bfill',inplace=True) for col in null_colmns]"
   ]
  },
  {
   "cell_type": "code",
   "execution_count": 5,
   "metadata": {},
   "outputs": [],
   "source": [
    "# C_mat = df.loc[:,'Para-1':].corr()\n",
    "# fig = plt.figure(figsize = (15,15))\n",
    "# plt.title('Corelation Heatmap')\n",
    "# sns.heatmap(C_mat, vmax = 0.8, vmin = -0.8,  square = True, annot=True)\n",
    "# plt.show()"
   ]
  },
  {
   "cell_type": "code",
   "execution_count": 6,
   "metadata": {},
   "outputs": [],
   "source": [
    "# fig, axs = plt.subplots(5, 3, figsize=(10,10))\n",
    "# x, y = 0,-1\n",
    "# for i in range(13):\n",
    "#     x = i//3\n",
    "#     y = i%3\n",
    "#     col = df.columns[i+2]\n",
    "#     axs[x,y].scatter(df[col].value_counts().index, df[col].value_counts())"
   ]
  },
  {
   "cell_type": "code",
   "execution_count": 6,
   "metadata": {},
   "outputs": [
    {
     "name": "stdout",
     "output_type": "stream",
     "text": [
      "Grouped dataframe by sections\n",
      "DataFrame Size: 1009\n",
      "Groups: 101\n"
     ]
    }
   ],
   "source": [
    "df['Section'].ffill(inplace=True)\n",
    "df_sections = df.groupby('Section', dropna=False)\n",
    "\n",
    "print(f'Grouped dataframe by sections\\nDataFrame Size: {len(df)}\\nGroups: {len(df_sections)}')"
   ]
  },
  {
   "cell_type": "code",
   "execution_count": 8,
   "metadata": {},
   "outputs": [],
   "source": [
    "# dsid = 'LSST'\n",
    "# X_train, y_train, X_valid, y_valid = get_UCR_data(dsid)\n",
    "# print(type(X_train))\n",
    "# print(y_train[0])\n",
    "# print(X_valid.shape)\n",
    "\n",
    "# dsid = 'NATOPS' \n",
    "# X, y, splits = get_UCR_data(dsid, return_split=False)\n",
    "# tfms  = [None, [Categorize()]]\n",
    "# dsets = TSDatasets(X, y, tfms=tfms, splits=splits, inplace=True)\n",
    "# print(dsets)"
   ]
  },
  {
   "cell_type": "code",
   "execution_count": 7,
   "metadata": {},
   "outputs": [
    {
     "name": "stdout",
     "output_type": "stream",
     "text": [
      "Converting Dataframe to 3d structure:\n",
      "1. Samples\n",
      "2. Variables\n",
      "3. Length\n",
      "New Shape:\n",
      "X: (100, 13, 9)\n",
      "Y: (100, 13)\n"
     ]
    }
   ],
   "source": [
    "print('Converting Dataframe to 3d structure:\\n1. Samples\\n2. Variables\\n3. Length')\n",
    "x_raw, y_raw = [], []\n",
    "i=0\n",
    "for section in list(df_sections):\n",
    "    section[1].reset_index(inplace=True)\n",
    "    # print(section[1].loc[:8,'Para-1':'Para-7'].T)\n",
    "    if len(section[1]) == 10:\n",
    "        x_raw.append(section[1].loc[:8,'Para-1':'Para-13'].T)\n",
    "        y_raw.append(section[1].loc[9,'Para-1':'Para-13'].T)\n",
    "x_raw = np.array(x_raw)\n",
    "y_raw = np.array(y_raw)\n",
    "if y_raw.dtype == 'object':\n",
    "    y_raw = y_raw.astype('float64')\n",
    "print(f'New Shape:\\nX: {x_raw.shape}\\nY: {y_raw.shape}')"
   ]
  },
  {
   "cell_type": "code",
   "execution_count": 10,
   "metadata": {},
   "outputs": [],
   "source": [
    "# X, y, splits = combine_split_data([x_raw], [y_raw])\n",
    "\n",
    "# check_data(X, y, splits)\n",
    "# tfms  = [None, [Categorize()]]\n",
    "# dsets = TSDatasets(X, y, tfms=tfms, splits=splits, inplace=True)"
   ]
  },
  {
   "cell_type": "code",
   "execution_count": 8,
   "metadata": {},
   "outputs": [
    {
     "name": "stdout",
     "output_type": "stream",
     "text": [
      "Train test split\n"
     ]
    }
   ],
   "source": [
    "x, y = get_selected_parameters(x_raw, y_raw)\n",
    "x_train, x_test, y_train, y_test = train_test_split(x, y, test_size=0.1)\n",
    "print('Train test split')"
   ]
  },
  {
   "cell_type": "code",
   "execution_count": 9,
   "metadata": {},
   "outputs": [
    {
     "name": "stdout",
     "output_type": "stream",
     "text": [
      "valid rmse        : 34.15516 time: 0:00:00.104288\n"
     ]
    }
   ],
   "source": [
    "rmse_scorer = make_scorer(mean_squared_error, greater_is_better=False)\n",
    "model = MiniRocketRegressor(scoring=rmse_scorer)\n",
    "timer.start(False)\n",
    "model.fit(x_train, y_train)\n",
    "t = timer.stop()\n",
    "y_pred = model.predict(x_test)\n",
    "rmse = mean_squared_error(y_test, y_pred, squared=False)\n",
    "print(f'valid rmse        : {rmse:.5f} time: {t}')"
   ]
  },
  {
   "cell_type": "code",
   "execution_count": 10,
   "metadata": {},
   "outputs": [
    {
     "name": "stdout",
     "output_type": "stream",
     "text": [
      "0.3708040059744794\n"
     ]
    }
   ],
   "source": [
    "r2 = r2_score(y_test, y_pred)\n",
    "print(r2)"
   ]
  },
  {
   "cell_type": "code",
   "execution_count": 11,
   "metadata": {},
   "outputs": [],
   "source": [
    "model.save(f'MRVRegressor_{r2}')"
   ]
  },
  {
   "cell_type": "code",
   "execution_count": 12,
   "metadata": {},
   "outputs": [
    {
     "name": "stdout",
     "output_type": "stream",
     "text": [
      "0.9614462778601804\n"
     ]
    }
   ],
   "source": [
    "y_raw_pred = model.predict(x)\n",
    "r2_total = r2_score(y, y_raw_pred)\n",
    "print(r2_total)"
   ]
  },
  {
   "cell_type": "code",
   "execution_count": 13,
   "metadata": {},
   "outputs": [
    {
     "name": "stdout",
     "output_type": "stream",
     "text": [
      "[[ 2.70209159e+02  1.48168041e+02  4.80012056e+01  3.80408356e+00\n",
      "   1.77940507e+00]\n",
      " [ 3.08626759e+02  2.05199421e+02  1.10566645e+02  2.58185451e+00\n",
      "   1.01203187e+00]\n",
      " [ 1.46248669e+02  8.43791895e+01  1.23279169e+02  5.22907968e+00\n",
      "   1.54520018e+00]\n",
      " [ 8.22270015e+01  2.57076810e+02  5.91091560e+01 -4.93747039e+00\n",
      "   2.77006699e-01]\n",
      " [ 8.16755664e+01  1.73369893e+02  3.15694615e+01  9.00058794e+00\n",
      "   1.90231597e+00]\n",
      " [ 8.63275944e+00  6.02946494e+01  3.10294282e+01  9.28901204e+00\n",
      "   1.22283672e+00]\n",
      " [ 1.18083106e+02  6.70732061e+01  4.35938911e+00  5.94681414e+00\n",
      "   1.77176510e+00]\n",
      " [-1.94396220e+01  1.74956408e+01  1.11265293e+01  5.63273408e+00\n",
      "   2.15912930e+00]\n",
      " [ 1.09952306e+02  1.79565032e+02  3.91560247e+01  1.01081067e+01\n",
      "   6.29340120e-01]\n",
      " [ 1.95571526e+02  7.23721771e+01  2.07176219e+01  1.13480866e+01\n",
      "   1.14352332e+00]]\n"
     ]
    }
   ],
   "source": [
    "print(y_pred)"
   ]
  }
 ],
 "metadata": {
  "kernelspec": {
   "display_name": "Python 3.10.7 64-bit",
   "language": "python",
   "name": "python3"
  },
  "language_info": {
   "codemirror_mode": {
    "name": "ipython",
    "version": 3
   },
   "file_extension": ".py",
   "mimetype": "text/x-python",
   "name": "python",
   "nbconvert_exporter": "python",
   "pygments_lexer": "ipython3",
   "version": "3.10.7"
  },
  "orig_nbformat": 4,
  "vscode": {
   "interpreter": {
    "hash": "b2194765557e7725c290a7683d2eb603dfddc015f92c1157854921e6d1191a2e"
   }
  }
 },
 "nbformat": 4,
 "nbformat_minor": 2
}
